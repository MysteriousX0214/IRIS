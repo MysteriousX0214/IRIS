{
 "cells": [
  {
   "cell_type": "code",
   "execution_count": 1,
   "id": "ae878642",
   "metadata": {},
   "outputs": [],
   "source": [
    "import numpy as np\n",
    "import torch\n",
    "from collections import Counter\n",
    "from sklearn import datasets\n",
    "import torch.nn.functional as Fun"
   ]
  },
  {
   "cell_type": "code",
   "execution_count": 6,
   "id": "c612f4fb",
   "metadata": {},
   "outputs": [
    {
     "name": "stdout",
     "output_type": "stream",
     "text": [
      "torch.Size([150, 4])\n",
      "150\n"
     ]
    }
   ],
   "source": [
    "dataset=datasets.load_iris()\n",
    "data=dataset['data']\n",
    "target=dataset['target']\n",
    "input=torch.FloatTensor(dataset['data'])\n",
    "label=torch.LongTensor(dataset['target'])\n",
    "print(input.size())\n",
    "print(len(label))"
   ]
  },
  {
   "cell_type": "code",
   "execution_count": 12,
   "id": "01d40fa6",
   "metadata": {},
   "outputs": [],
   "source": [
    "class Net(torch.nn.Module):\n",
    "    def __init__(self,n_feature,n_hidden,n_output):\n",
    "        super(Net,self).__init__()\n",
    "        self.hidden=torch.nn.Linear(n_feature,n_hidden)\n",
    "        self.out=torch.nn.Linear(n_hidden,n_output)\n",
    "        \n",
    "    def forward(self,x):\n",
    "        x=Fun.relu(self.hidden(x))\n",
    "        x=self.out(x)\n",
    "        return x"
   ]
  },
  {
   "cell_type": "code",
   "execution_count": 16,
   "id": "b0091469",
   "metadata": {},
   "outputs": [],
   "source": [
    "net=Net(n_feature=4,n_hidden=20,n_output=3)\n",
    "optimizer=torch.optim.SGD(net.parameters(),lr=0.01,momentum=0.5)\n",
    "loss_func=torch.nn.CrossEntropyLoss()"
   ]
  },
  {
   "cell_type": "code",
   "execution_count": 18,
   "id": "80a8bc91",
   "metadata": {},
   "outputs": [],
   "source": [
    "for i in range(500):\n",
    "    out=net(input)\n",
    "    loss=loss_func(out,label)\n",
    "    optimizer.zero_grad()\n",
    "    loss.backward()\n",
    "    optimizer.step()"
   ]
  },
  {
   "cell_type": "code",
   "execution_count": 20,
   "id": "28bf09a8",
   "metadata": {},
   "outputs": [],
   "source": [
    "out=net(input)\n",
    "prediction=torch.max(out,1)[1]\n",
    "pred_y=prediction.data.numpy()\n",
    "target_y=label.data.numpy()"
   ]
  },
  {
   "cell_type": "code",
   "execution_count": 23,
   "id": "fdb623a7",
   "metadata": {},
   "outputs": [
    {
     "name": "stdout",
     "output_type": "stream",
     "text": [
      "accuracy:  0.9733333333333334\n"
     ]
    }
   ],
   "source": [
    "accuracy=float((pred_y==target_y).astype(int).sum())/float(target_y.size)\n",
    "print(\"accuracy: \",accuracy)"
   ]
  },
  {
   "cell_type": "code",
   "execution_count": null,
   "id": "f4af47db",
   "metadata": {},
   "outputs": [],
   "source": []
  }
 ],
 "metadata": {
  "kernelspec": {
   "display_name": "Python 3 (ipykernel)",
   "language": "python",
   "name": "python3"
  },
  "language_info": {
   "codemirror_mode": {
    "name": "ipython",
    "version": 3
   },
   "file_extension": ".py",
   "mimetype": "text/x-python",
   "name": "python",
   "nbconvert_exporter": "python",
   "pygments_lexer": "ipython3",
   "version": "3.9.7"
  }
 },
 "nbformat": 4,
 "nbformat_minor": 5
}
